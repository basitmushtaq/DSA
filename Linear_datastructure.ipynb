{
 "cells": [
  {
   "cell_type": "code",
   "execution_count": 119,
   "metadata": {
    "id": "HZ1DM0scp4iu"
   },
   "outputs": [],
   "source": [
    "class stack:\n",
    "    \n",
    "    def __init__(self):\n",
    "        self.stack=list()\n",
    "        \n",
    "        \n",
    "    def isEmpty(self):\n",
    "        return len(self.stack)==0\n",
    "   \n",
    "\n",
    "    def pop(self):\n",
    "        if self.isEmpty():\n",
    "            print(\"Stack Underflow!\")\n",
    "        else:\n",
    "            return self.stack.pop()\n",
    "\n",
    "        \n",
    "    def push(self,item):\n",
    "        self.stack.append(item)  \n",
    "        \n",
    "    def show(self):\n",
    "        print(*self.stack,sep=' ')\n",
    "    \n",
    "    def reverse_stack(self):\n",
    "        \n",
    "        if len(self.stack)==0:\n",
    "            return\n",
    "        else:\n",
    "            top=self.pop()\n",
    "            self.reverse_stack()\n",
    "            self.insert_bottom(top)  \n",
    "    def peek(self):\n",
    "        return self.stack[-1]\n",
    "        \n",
    "    def insert_bottom(self,item):\n",
    "        \n",
    "        if len(self.stack)==0:\n",
    "            self.push(item)\n",
    "        else:\n",
    "            top=self.stack.pop()\n",
    "            self.insert_bottom(item)\n",
    "            self.push(top)"
   ]
  },
  {
   "cell_type": "markdown",
   "metadata": {
    "id": "mSlECUPCp_tA"
   },
   "source": [
    "Q1. Write a program to find all pairs of an integer array whose sum is equal to a given number?"
   ]
  },
  {
   "cell_type": "code",
   "execution_count": 5,
   "metadata": {
    "colab": {
     "base_uri": "https://localhost:8080/"
    },
    "id": "mLRG1FkHtMBM",
    "outputId": "f45b0276-7e34-4710-c1c3-be918172c1c0"
   },
   "outputs": [
    {
     "name": "stdout",
     "output_type": "stream",
     "text": [
      "Enter elements(space separated) of array :1 2 3 4 5 6 7 8 4\n",
      "enter sum8\n",
      "(5, 3)\t(6, 2)\t(7, 1)\t(4, 4)\n"
     ]
    }
   ],
   "source": [
    "def find_pairs(array,summ):\n",
    "  pairs=[]\n",
    "  for i in range(1,len(array)):\n",
    "    for j in range(i):\n",
    "      if array[i]+array[j]==sum2:\n",
    "        pairs.append((array[i],array[j]))\n",
    "  return pairs\n",
    "\n",
    "if __name__=='__main__':\n",
    "  new_arr=[]\n",
    "  print(\"Enter elements(space separated) of array :\",end='')\n",
    "  new_arr=list(map(int,input().split()))\n",
    "  summ=int(input(\"enter sum: \"))\n",
    "  pairs=find_pairs(new_arr,summ)\n",
    "  print('Pairs:',*pairs,sep='\\t')\n",
    "\n"
   ]
  },
  {
   "cell_type": "markdown",
   "metadata": {
    "id": "t5j-gabYuaQe"
   },
   "source": [
    "Q2. Write a program to reverse an array in place? In place means you cannot create a new array. You have to update the original array."
   ]
  },
  {
   "cell_type": "code",
   "execution_count": 8,
   "metadata": {
    "colab": {
     "base_uri": "https://localhost:8080/"
    },
    "id": "E6vvD76hua_P",
    "outputId": "d92f1ea3-9d74-467e-8fc2-afccef633b66"
   },
   "outputs": [
    {
     "name": "stdout",
     "output_type": "stream",
     "text": [
      "Enter elements(space separated) of array :1 2 4 5 6 8\n",
      "reversed array:  8 6 5 4 2 1\n"
     ]
    }
   ],
   "source": [
    "def in_reverse():\n",
    "  global new_arr\n",
    "  n=len(new_arr)-1\n",
    "  for i in range ((n+1)//2):\n",
    "    new_arr[i],new_arr[n-i]=new_arr[n-i],new_arr[i]\n",
    "\n",
    "\n",
    "if __name__=='__main__':\n",
    "  new_arr=[]\n",
    "  print(\"Enter elements(space separated) of array :\",end='')\n",
    "  new_arr=list(map(int,input().split()))\n",
    "  in_reverse()\n",
    "  print('reversed array: ',*new_arr,sep=' ')"
   ]
  },
  {
   "cell_type": "markdown",
   "metadata": {
    "id": "IjsqXD_vvwGr"
   },
   "source": [
    "Q3. Write a program to check if two strings are a rotation of each other?"
   ]
  },
  {
   "cell_type": "code",
   "execution_count": 13,
   "metadata": {
    "colab": {
     "base_uri": "https://localhost:8080/"
    },
    "id": "e4IfgUUjvMLI",
    "outputId": "f49b7f72-3805-4310-eeb6-ce942c765bd7"
   },
   "outputs": [
    {
     "name": "stdout",
     "output_type": "stream",
     "text": [
      "Enter string 1: abcdad\n",
      "Enter string 2: adabcd\n",
      "Given strings are a rotation of each other\n"
     ]
    }
   ],
   "source": [
    "def check_rotation(string1,string2):\n",
    "  if not len(string2)==len(string1):\n",
    "    print('umatched length')\n",
    "    return False\n",
    "  else:\n",
    "    n=len(string1)\n",
    "    i=0\n",
    "    offset=0\n",
    "    while i<n:\n",
    "      if string1[i]==string2[(i+offset)%n]:\n",
    "        flag=True\n",
    "        i+=1\n",
    "      else:\n",
    "        flag=False\n",
    "        i=0\n",
    "        offset+=1\n",
    "    return flag\n",
    "if __name__=='__main__':\n",
    "  string1=list(input(\"Enter string 1: \"))\n",
    "  string2=list(input(\"Enter string 2: \"))\n",
    "  if check_rotation(string1,string2):\n",
    "    print(\"Given strings are a rotation of each other\")\n",
    "  else:\n",
    "    print(\"Given strings are NOT a rotation of each other\")\n",
    "\n"
   ]
  },
  {
   "cell_type": "markdown",
   "metadata": {
    "id": "khreSiEUyKRH"
   },
   "source": [
    "Q4. Write a program to print the first non-repeated character from a string?"
   ]
  },
  {
   "cell_type": "code",
   "execution_count": 19,
   "metadata": {
    "id": "4JYSIq9A_E0Q"
   },
   "outputs": [
    {
     "name": "stdout",
     "output_type": "stream",
     "text": [
      "Enter string 1: abcdaaddeegbcdz\n",
      "g\n",
      "First non-repeated character: g\n"
     ]
    }
   ],
   "source": [
    "def first_repeated(string):\n",
    "    n=len(string)\n",
    "    for i in range(n):\n",
    "        for j in range(n):\n",
    "            index=i\n",
    "            flag=True\n",
    "            if i==j:\n",
    "                continue\n",
    "            if string[i]==string[j]:\n",
    "                flag=False\n",
    "                break\n",
    "        if flag:\n",
    "            break\n",
    "    if flag:\n",
    "        return string[index]\n",
    "\n",
    "\n",
    "\n",
    "if __name__=='__main__':\n",
    "    string=list(input(\"Enter string 1: \"))\n",
    "    if string:\n",
    "        char=first_repeated(string)\n",
    "        print(char)\n",
    "        if char:\n",
    "          print(f\"First non-repeated character: {char}\")\n",
    "        else:\n",
    "            print(\"no non-repeated character\")\n",
    "    else:\n",
    "        print(\"enter non empty string\")"
   ]
  },
  {
   "cell_type": "markdown",
   "metadata": {
    "id": "NVCR1_PkBRxX"
   },
   "source": [
    "Q5. Read about the Tower of Hanoi algorithm. Write a program to implement it."
   ]
  },
  {
   "cell_type": "code",
   "execution_count": 29,
   "metadata": {},
   "outputs": [
    {
     "name": "stdout",
     "output_type": "stream",
     "text": [
      "Enter number of disks: 5\n",
      "Moving Disc 1 from A to C\n",
      "Moving Disc 2 from A to B\n",
      "Moving Disc 1 from C to B\n",
      "Moving Disc 3 from A to C\n",
      "Moving Disc 1 from B to A\n",
      "Moving Disc 2 from B to C\n",
      "Moving Disc 1 from A to C\n",
      "Moving Disc 4 from A to B\n",
      "Moving Disc 1 from C to B\n",
      "Moving Disc 2 from C to A\n",
      "Moving Disc 1 from B to A\n",
      "Moving Disc 3 from C to B\n",
      "Moving Disc 1 from A to C\n",
      "Moving Disc 2 from A to B\n",
      "Moving Disc 1 from C to B\n",
      "Moving Disc 5 from A to C\n",
      "Moving Disc 1 from B to A\n",
      "Moving Disc 2 from B to C\n",
      "Moving Disc 1 from A to C\n",
      "Moving Disc 3 from B to A\n",
      "Moving Disc 1 from C to B\n",
      "Moving Disc 2 from C to A\n",
      "Moving Disc 1 from B to A\n",
      "Moving Disc 4 from B to C\n",
      "Moving Disc 1 from A to C\n",
      "Moving Disc 2 from A to B\n",
      "Moving Disc 1 from C to B\n",
      "Moving Disc 3 from A to C\n",
      "Moving Disc 1 from B to A\n",
      "Moving Disc 2 from B to C\n",
      "Moving Disc 1 from A to C\n"
     ]
    }
   ],
   "source": [
    "def toh(n,from_stack,to_stack,helper_stack):\n",
    "    if n==1:\n",
    "        print(f\"Moving Disc {n} from {from_stack} to {to_stack}\")\n",
    "    else:\n",
    "        toh(n-1,from_stack,helper_stack,to_stack)\n",
    "        print(f\"Moving Disc {n} from {from_stack} to {to_stack}\")\n",
    "        toh(n-1,helper_stack,to_stack,from_stack)\n",
    "        \n",
    "        \n",
    "    \n",
    "if __name__=='__main__':\n",
    "    n=int(input(\"Enter number of disks: \"))\n",
    "    from_stack='A'\n",
    "    to_stack='C'\n",
    "    helper_stack='B'\n",
    "    toh(n,from_stack,to_stack,helper_stack)\n",
    "    "
   ]
  },
  {
   "cell_type": "markdown",
   "metadata": {},
   "source": [
    "Q6. Read about infix, prefix, and postfix expressions. Write a program to convert postfix to prefix expression."
   ]
  },
  {
   "cell_type": "code",
   "execution_count": 107,
   "metadata": {},
   "outputs": [
    {
     "name": "stdout",
     "output_type": "stream",
     "text": [
      "enter postfix expression :AB+CD-*\n",
      "prefix expression :*+AB-CD\n"
     ]
    }
   ],
   "source": [
    "def pre(string):\n",
    "    n=len(string)\n",
    "    i=0\n",
    "    stk=stack()\n",
    "    operators=['/','*','+','-']\n",
    "    while i<n:\n",
    "        if string[i] in operators:\n",
    "            operand1=stk.pop()\n",
    "            operand2=stk.pop()\n",
    "            new_operand=string[i]+operand2+operand1\n",
    "            stk.push(new_operand)\n",
    "        else:\n",
    "            stk.push(string[i])\n",
    "        i+=1\n",
    "    return stk.pop()\n",
    "\n",
    "if __name__=='__main__':\n",
    "    string=list(input(\"enter postfix expression :\"))\n",
    "    pre_string=pre(string)\n",
    "    print(f'prefix expression :{pre_string}')\n",
    "    "
   ]
  },
  {
   "cell_type": "markdown",
   "metadata": {},
   "source": [
    "Q7. Write a program to convert prefix expression to infix expression."
   ]
  },
  {
   "cell_type": "code",
   "execution_count": 108,
   "metadata": {},
   "outputs": [
    {
     "name": "stdout",
     "output_type": "stream",
     "text": [
      "enter prefix expression :*+AB-CD\n",
      "infix expression :A+B*C-D\n"
     ]
    }
   ],
   "source": [
    "def infix(string):\n",
    "    n=len(string)\n",
    "    i=n-1\n",
    "    stk2=stack()\n",
    "    operators=['/','*','+','-']\n",
    "    while i>-1:\n",
    "        if string[i] in operators:\n",
    "            operand1=stk2.pop()\n",
    "            operand2=stk2.pop()\n",
    "            new_operand=operand1+string[i]+operand2\n",
    "            stk2.push(new_operand)\n",
    "        else:\n",
    "            stk2.push(string[i])\n",
    "        i-=1\n",
    "    return stk2.pop()\n",
    "\n",
    "if __name__=='__main__':\n",
    "    string=list(input(\"enter prefix expression :\").strip())\n",
    "    infix_string=infix(string)\n",
    "    print(f'infix expression :{infix_string}')"
   ]
  },
  {
   "cell_type": "markdown",
   "metadata": {},
   "source": [
    "Q8. Write a program to check if all the brackets are closed in a given code snippet."
   ]
  },
  {
   "cell_type": "code",
   "execution_count": 109,
   "metadata": {},
   "outputs": [
    {
     "name": "stdout",
     "output_type": "stream",
     "text": [
      "enter code snippet{{(())}}<..>\n",
      "All brackets are closed!\n"
     ]
    }
   ],
   "source": [
    "def check_closed(string):\n",
    "    stk3=stack()\n",
    "    opening=['{','(','[','<']\n",
    "    closing=['}',')',']','>']\n",
    "    n=len(string)\n",
    "    for i in range(n):\n",
    "        if string[i] in opening:\n",
    "            stk3.push(string[i])\n",
    "        elif string[i] in closing:\n",
    "            if string[i]=='}':\n",
    "                prev=stk3.pop()\n",
    "                if prev!='{':\n",
    "                    return False\n",
    "            if string[i]==')':\n",
    "                prev=stk3.pop()\n",
    "                if prev!='(':\n",
    "                    return False\n",
    "            if string[i]==']':\n",
    "                prev=stk3.pop()\n",
    "                if prev!='[':\n",
    "                    return False\n",
    "            if string[i]=='>':\n",
    "                prev=stk3.pop()\n",
    "                if prev!='<':\n",
    "                    return False\n",
    "    return True\n",
    "                \n",
    "if __name__=='__main__':\n",
    "    string=list(input(\"enter code snippet\"))\n",
    "    if check_closed(string):\n",
    "        print(\"All brackets are closed!\")\n",
    "    else:\n",
    "        print(\"Some bracket(s) are open\")"
   ]
  },
  {
   "cell_type": "markdown",
   "metadata": {},
   "source": [
    "Q9. Write a program to reverse a stack."
   ]
  },
  {
   "cell_type": "code",
   "execution_count": 118,
   "metadata": {},
   "outputs": [
    {
     "name": "stdout",
     "output_type": "stream",
     "text": [
      "enter space separted elements: 1 2 3\n",
      "orignal stack: 1 2 3\n",
      "reversed stack: 3 2 1\n"
     ]
    }
   ],
   "source": [
    "    \n",
    "if __name__=='__main__':\n",
    "    list1=list(map(int,input(\"enter space separted elements: \").split()))\n",
    "    stk4=stack()\n",
    "    for i in list1:\n",
    "        stk4.push(i)\n",
    "    print(f\"orignal stack:\",end=' ')\n",
    "    stk4.show()\n",
    "    stk4.reverse_stack()\n",
    "    print(\"reversed stack:\",end=' ')\n",
    "    stk4.show()\n",
    "    "
   ]
  },
  {
   "cell_type": "markdown",
   "metadata": {},
   "source": [
    "Q10. Write a program to find the smallest number using a stack."
   ]
  },
  {
   "cell_type": "code",
   "execution_count": 125,
   "metadata": {},
   "outputs": [
    {
     "name": "stdout",
     "output_type": "stream",
     "text": [
      "enter space separted elements: 2 5 4 8 -20 0\n",
      "[2, 5, 4, 8, -20, 0]\n",
      "Smallest number is -20\n"
     ]
    }
   ],
   "source": [
    "def find_smalles(list1):\n",
    "    stk5=stack()\n",
    "    for i in list1:\n",
    "        if stk5.isEmpty():\n",
    "            stk5.push(i)\n",
    "        else:\n",
    "            if stk5.peek()>i:\n",
    "                stk5.pop()\n",
    "                stk5.push(i)\n",
    "    return stk5.pop()\n",
    "if __name__=='__main__':\n",
    "    list1=list(map(int,input(\"enter space separted elements: \").split()))\n",
    "    smallest=find_smalles(list1)\n",
    "    print (list1)\n",
    "    \n",
    "    print(f\"Smallest number is {smallest}\")\n",
    "    "
   ]
  },
  {
   "cell_type": "code",
   "execution_count": null,
   "metadata": {},
   "outputs": [],
   "source": []
  }
 ],
 "metadata": {
  "colab": {
   "name": "Linear_datastructure.ipynb",
   "provenance": []
  },
  "kernelspec": {
   "display_name": "Python 3 (ipykernel)",
   "language": "python",
   "name": "python3"
  },
  "language_info": {
   "codemirror_mode": {
    "name": "ipython",
    "version": 3
   },
   "file_extension": ".py",
   "mimetype": "text/x-python",
   "name": "python",
   "nbconvert_exporter": "python",
   "pygments_lexer": "ipython3",
   "version": "3.8.8"
  }
 },
 "nbformat": 4,
 "nbformat_minor": 1
}
